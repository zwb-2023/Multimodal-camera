{
 "cells": [
  {
   "cell_type": "markdown",
   "metadata": {},
   "source": [
    "### 人工选择匹配角点"
   ]
  },
  {
   "cell_type": "code",
   "execution_count": 1,
   "metadata": {},
   "outputs": [
    {
     "name": "stdout",
     "output_type": "stream",
     "text": [
      "请在源图像上选择至少4个点，按ESC继续\n",
      "请在目标图像上选择对应点（相同顺序），按ESC继续\n",
      "按任意键退出...\n"
     ]
    },
    {
     "data": {
      "text/plain": [
       "True"
      ]
     },
     "execution_count": 1,
     "metadata": {},
     "output_type": "execute_result"
    }
   ],
   "source": [
    "import cv2\n",
    "import numpy as np\n",
    "\n",
    "# 存储选点的列表\n",
    "points_src = []\n",
    "points_dst = []\n",
    "\n",
    "# 鼠标回调函数\n",
    "def select_points_src(event, x, y, flags, param):\n",
    "    if event == cv2.EVENT_LBUTTONDOWN:\n",
    "        points_src.append((x, y))\n",
    "        cv2.circle(img_src_display, (x, y), 5, (0, 255, 0), -1)\n",
    "        cv2.imshow(\"Source Image\", img_src_display)\n",
    "\n",
    "def select_points_dst(event, x, y, flags, param):\n",
    "    if event == cv2.EVENT_LBUTTONDOWN:\n",
    "        points_dst.append((x, y))\n",
    "        cv2.circle(img_dst_display, (x, y), 5, (0, 0, 255), -1)\n",
    "        cv2.imshow(\"Target Image\", img_dst_display)\n",
    "\n",
    "# 读取图像\n",
    "img_src = cv2.imread(rf'G:\\yansi0619\\3D\\aishangliaohou\\ImageData_2025-06-19_16-55-50\\rgb.bmp')  # 源图像（待变换图像）\n",
    "img_dst = cv2.imread(rf'G:\\yansi0619\\spectral\\data\\aishangliohou\\newdata20250619_165140.tiff')  # 目标图像（参考图像）\n",
    "\n",
    "if img_src is None or img_dst is None:\n",
    "    print(\"Error: Could not load images!\")\n",
    "    exit()\n",
    "\n",
    "# 创建显示副本\n",
    "img_src_display = img_src.copy()\n",
    "img_dst_display = img_dst.copy()\n",
    "\n",
    "# 创建窗口并设置回调\n",
    "cv2.namedWindow(\"Source Image\", cv2.WINDOW_AUTOSIZE)\n",
    "cv2.setMouseCallback(\"Source Image\", select_points_src)\n",
    "\n",
    "cv2.namedWindow(\"Target Image\", cv2.WINDOW_AUTOSIZE)\n",
    "cv2.setMouseCallback(\"Target Image\", select_points_dst)\n",
    "\n",
    "print(\"请在源图像上选择至少4个点，按ESC继续\")\n",
    "while True:\n",
    "    cv2.imshow(\"Source Image\", img_src_display)\n",
    "    key = cv2.waitKey(1) & 0xFF\n",
    "    if key == 27:  # ESC键\n",
    "        break\n",
    "\n",
    "print(\"请在目标图像上选择对应点（相同顺序），按ESC继续\")\n",
    "while True:\n",
    "    cv2.imshow(\"Target Image\", img_dst_display)\n",
    "    key = cv2.waitKey(1) & 0xFF\n",
    "    if key == 27:  # ESC键\n",
    "        break\n",
    "\n",
    "cv2.destroyAllWindows()\n",
    "\n",
    "# 检查点数\n",
    "if len(points_src) < 4 or len(points_dst) < 4:\n",
    "    print(\"错误：至少需要4个匹配点！\")\n",
    "    exit()\n",
    "\n",
    "if len(points_src) != len(points_dst):\n",
    "    print(\"错误：源图像和目标图像的点数不一致！\")\n",
    "    exit()\n",
    "\n",
    "# 转换为NumPy数组\n",
    "pts_src = np.array(points_src, dtype=np.float32)\n",
    "pts_dst = np.array(points_dst, dtype=np.float32)\n",
    "\n",
    "# 计算单应性矩阵（透视变换矩阵）\n",
    "H, status = cv2.findHomography(pts_src, pts_dst, cv2.RANSAC, 5.0)\n",
    "\n",
    "if H is None:\n",
    "    print(\"错误：无法计算变换矩阵！\")\n",
    "    exit()\n",
    "\n",
    "# 应用透视变换\n",
    "img_registered = cv2.warpPerspective(img_src, H, (img_dst.shape[1], img_dst.shape[0]))\n",
    "\n",
    "# 创建匹配点可视化\n",
    "img_matches = np.zeros((max(img_src.shape[0], img_dst.shape[0]), img_src.shape[1] + img_dst.shape[1], 3), dtype=np.uint8)\n",
    "img_matches[0:img_src.shape[0], 0:img_src.shape[1]] = img_src\n",
    "img_matches[0:img_dst.shape[0], img_src.shape[1]:] = img_dst\n",
    "\n",
    "# 绘制匹配线\n",
    "for i in range(len(points_src)):\n",
    "    pt1 = (int(points_src[i][0]), int(points_src[i][1]))\n",
    "    pt2 = (int(points_dst[i][0] + img_src.shape[1]), int(points_dst[i][1]))\n",
    "    cv2.line(img_matches, pt1, pt2, (0, 255, 0), 1)\n",
    "    cv2.circle(img_matches, pt1, 5, (0, 255, 0), -1)\n",
    "    cv2.circle(img_matches, pt2, 5, (0, 0, 255), -1)\n",
    "\n",
    "# 创建配准结果可视化\n",
    "alpha = 0.5\n",
    "blended = cv2.addWeighted(img_dst, alpha, img_registered, 1 - alpha, 0)\n",
    "\n",
    "# 显示结果\n",
    "cv2.imshow(\"Feature Matches\", img_matches)\n",
    "cv2.imshow(\"Registration Result\", img_registered)\n",
    "cv2.imshow(\"Overlay Result\", blended)\n",
    "\n",
    "print(\"按任意键退出...\")\n",
    "cv2.waitKey(0)\n",
    "cv2.destroyAllWindows()\n",
    "\n",
    "# 保存结果（可选）\n",
    "cv2.imwrite(\"feature_matches.jpg\", img_matches)\n",
    "cv2.imwrite(\"registered_image.jpg\", img_registered)\n",
    "cv2.imwrite(\"overlay_result.jpg\", blended)"
   ]
  },
  {
   "cell_type": "code",
   "execution_count": 4,
   "metadata": {
    "ExecuteTime": {
     "end_time": "2024-06-18T03:06:30.591131Z",
     "start_time": "2024-06-18T03:06:30.483420Z"
    }
   },
   "outputs": [],
   "source": [
    "import os\n",
    "import cv2 as cv\n",
    "import matplotlib.pyplot as plt\n",
    "import numpy as np\n",
    "import spectral\n",
    "import glob\n",
    "\n",
    "\n",
    "class ImgRegistration:\n",
    "    def __init__(self, matrix_path, msi_board_path, rgb_board_path):\n",
    "        self.matrix_path = matrix_path\n",
    "        self.msi_board_path = msi_board_path\n",
    "        self.rgb_board_path = rgb_board_path\n",
    "\n",
    "    def get_rectify_M(self):\n",
    "        \"\"\"\n",
    "        获取图像配准变换矩阵M\n",
    "        1.显示特征匹配图片  2.显示模板图片对正效果图\n",
    "        \"\"\"\n",
    "        msi = spectral.open_image(self.msi_board_path).load()\n",
    "        spe_gray = (msi[:, :, 30] / 4).astype(np.uint8)\n",
    "        RGB_img = cv.imdecode(np.fromfile(self.rgb_board_path, dtype=np.uint8), 0)\n",
    "        rgb_gray = RGB_img\n",
    "        sift = cv.SIFT_create()\n",
    "        # 利用SIFT算法寻找特征点\n",
    "        kp1, des1 = sift.detectAndCompute(spe_gray, None)\n",
    "        kp2, des2 = sift.detectAndCompute(rgb_gray, None)\n",
    "        # FLANN parameters\n",
    "        FLANN_INDEX_KDTREE = 1\n",
    "        index_params = dict(algorithm=FLANN_INDEX_KDTREE, trees=5)\n",
    "        search_params = dict(checks=50)\n",
    "        flann = cv.FlannBasedMatcher(index_params, search_params)\n",
    "        matches = flann.knnMatch(des1, des2, k=2)\n",
    "\n",
    "        # Need to draw only good matches, so create a mask\n",
    "        matchesMask = [[0, 0] for i in range(len(matches))]\n",
    "\n",
    "        good = []\n",
    "        pts1 = []\n",
    "        pts2 = []\n",
    "        # ratio test as per Lowe's paper\n",
    "        for i, (m, n) in enumerate(matches):\n",
    "            if m.distance < 0.6 * n.distance:\n",
    "                good.append(m)\n",
    "                pts2.append(kp2[m.trainIdx].pt)\n",
    "                pts1.append(kp1[m.queryIdx].pt)\n",
    "                matchesMask[i] = [1, 0]\n",
    "\n",
    "        draw_params = dict(matchColor=(0, 255, 0),\n",
    "                           singlePointColor=(255, 0, 0),\n",
    "                           matchesMask=matchesMask,\n",
    "                           flags=0)\n",
    "        img3 = cv.drawMatchesKnn(spe_gray, kp1, rgb_gray, kp2, matches, None, **draw_params)\n",
    "        # plt.title('feature matching')\n",
    "        # plt.imshow(img3)\n",
    "        # plt.show()\n",
    "        rows, cols = spe_gray.shape[:2]\n",
    "        MIN_MATCH_COUNT = 10\n",
    "        if len(good) > MIN_MATCH_COUNT:\n",
    "            src_pts = np.float32([kp1[m.queryIdx].pt for m in good]).reshape(-1, 1, 2)\n",
    "            dst_pts = np.float32([kp2[m.trainIdx].pt for m in good]).reshape(-1, 1, 2)\n",
    "            M, mask = cv.findHomography(src_pts, dst_pts, cv.RANSAC, 5.0)\n",
    "        else:\n",
    "            raise Exception(\"Not enough matches are found - {}/{}\".format(len(good), MIN_MATCH_COUNT))\n",
    "        np.save(self.matrix_path, M)\n",
    "        return \n",
    "\n",
    "    def rectify_msi(self, msi_floder_path , save_path):\n",
    "\n",
    "        msi_path = glob.glob(f'{msi_floder_path}/*.hdr')\n",
    "        M = np.load(self.matrix_path+'.npy')\n",
    "        rgb_img = cv.imdecode(np.fromfile(self.rgb_board_path, dtype=np.uint8), 0)\n",
    "        rows, cols = rgb_img.shape[:2]\n",
    "        msi = spectral.open_image(msi_path[0]).load()\n",
    "        msi_imgs = (msi / 4).astype(np.uint8)\n",
    "        self.warpImgs = cv.warpPerspective(msi_imgs, np.linalg.inv(M), (cols, rows), flags=cv.WARP_INVERSE_MAP)\n",
    "        \n",
    "        for i in range(30):\n",
    "         cv.imwrite(os.path.join(save_path , f'{i + 1}.png'), self.warpImgs[:, :, i])\n",
    "\n",
    "        return "
   ]
  },
  {
   "cell_type": "code",
   "execution_count": 5,
   "metadata": {},
   "outputs": [
    {
     "name": "stderr",
     "output_type": "stream",
     "text": [
      "C:\\Users\\dell\\AppData\\Roaming\\Python\\Python39\\site-packages\\spectral\\io\\envi.py:175: UserWarning: Parameters with non-lowercase names encountered and converted to lowercase. To retain source file parameter name capitalization, set spectral.settings.envi_support_nonlowercase_params to True.\n",
      "  warnings.warn(msg)\n"
     ]
    },
    {
     "data": {
      "text/plain": [
       "(2048, 2448, 31)"
      ]
     },
     "execution_count": 5,
     "metadata": {},
     "output_type": "execute_result"
    }
   ],
   "source": [
    "# 帮我写了一个测试代码，你可以直接运行这个代码，看看效果\n",
    "# 你需要修改的地方是，matrix_path，msi_board_path，rgb_board_path，save_path，msi_floder_path\n",
    "# matrix_path是矩阵保存地址，msi_board_path是msi标定板地址，rgb_board_path是rgb标定板地址，save_path是保存地址，msi_floder_path是msi图像地址\n",
    "matrix_path = r'D:\\code\\黄斑识别2'\n",
    "msi_board_path = r'G:\\peizhun\\biaodingban-180236\\2\\biaodingban.hdr'\n",
    "rgb_board_path = r'G:\\peizhun\\biaodingban-180236\\2\\biaodingban.png'\n",
    "\n",
    "save_path = rf'G:\\yellowspot_cigarette\\dt\\sdy-dt-203710\\sdy-dt_20240617203710\\2'\n",
    "msi_floder_path =  save_path\n",
    "\n",
    "reg  = ImgRegistration(matrix_path ,msi_board_path, rgb_board_path)\n",
    "reg.get_rectify_M()\n",
    "reg.rectify_msi(msi_floder_path , save_path)\n",
    "\n",
    "# 得到reg类里面的全局变量warpImgs，是配准后的图像，输出warpImgs\n",
    "reg.warpImgs.shape"
   ]
  },
  {
   "cell_type": "code",
   "execution_count": null,
   "metadata": {},
   "outputs": [],
   "source": [
    "# 画个图\n",
    "plt.imshow(reg.warpImgs[:,:,0])  # 0是第一个波段\n",
    "plt.show()\n"
   ]
  },
  {
   "cell_type": "code",
   "execution_count": 8,
   "metadata": {},
   "outputs": [
    {
     "data": {
      "text/plain": [
       "<matplotlib.image.AxesImage at 0x10d80c51ac0>"
      ]
     },
     "execution_count": 8,
     "metadata": {},
     "output_type": "execute_result"
    },
    {
     "data": {
      "image/png": "[encoded data removed]",
      "text/plain": [
       "<Figure size 432x288 with 1 Axes>"
      ]
     },
     "metadata": {
      "needs_background": "light"
     },
     "output_type": "display_data"
    }
   ],
   "source": [
    "# plt显示warpImgs图像             \n",
    "import matplotlib.pyplot as plt\n",
    "plt.imshow(reg.warpImgs[:,:,10])   "
   ]
  }
 ],
 "metadata": {
  "kernelspec": {
   "display_name": "spe",
   "language": "python",
   "name": "python3"
  },
  "language_info": {
   "codemirror_mode": {
    "name": "ipython",
    "version": 3
   },
   "file_extension": ".py",
   "mimetype": "text/x-python",
   "name": "python",
   "nbconvert_exporter": "python",
   "pygments_lexer": "ipython3",
   "version": "3.12.0"
  }
 },
 "nbformat": 4,
 "nbformat_minor": 2
}
